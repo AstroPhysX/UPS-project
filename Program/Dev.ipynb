{
 "cells": [
  {
   "cell_type": "code",
   "execution_count": 1,
   "metadata": {},
   "outputs": [],
   "source": [
    "import camelot\n",
    "import matplotlib.pyplot as plt\n",
    "import pandas as pd\n",
    "import re\n",
    "import datetime\n",
    "import PyPDF2"
   ]
  },
  {
   "cell_type": "code",
   "execution_count": 2,
   "metadata": {},
   "outputs": [],
   "source": [
    "pd.set_option('display.max_rows', 500)\n",
    "pd.set_option('display.max_columns', 500)\n",
    "pd.set_option('display.width', 1000)"
   ]
  },
  {
   "cell_type": "code",
   "execution_count": 3,
   "metadata": {},
   "outputs": [],
   "source": [
    "filename=\"A:/Github Repos/UPS-project/SamplePDFs/2304 Trips.pdf\""
   ]
  },
  {
   "cell_type": "code",
   "execution_count": 5,
   "metadata": {},
   "outputs": [],
   "source": [
    "dflist=[]"
   ]
  },
  {
   "cell_type": "code",
   "execution_count": 4,
   "metadata": {},
   "outputs": [
    {
     "name": "stdout",
     "output_type": "stream",
     "text": [
      "Extracting Trips\n",
      "  Obtained the page range:  1-151\n",
      "  Reading pdf. Getting Trips this may take a few minutes...\n",
      "  Done reading pdf\n"
     ]
    }
   ],
   "source": [
    "print(\"Extracting Trips\")\n",
    "pdf=open(filename,'rb')\n",
    "lastpage=PyPDF2.PdfFileReader(pdf).getNumPages()\n",
    "startpage=1\n",
    "pgrange=str(startpage)+'-'+str(lastpage)\n",
    "pdf.close()\n",
    "    \n",
    "print(\"  Obtained the page range: \",pgrange)\n",
    "print(\"  Reading pdf. Getting Trips this may take a few minutes...\")\n",
    "    \n",
    "while True:\n",
    "    try:\n",
    "        tables=camelot.read_pdf(filename,pages=pgrange,flavor='stream',table_areas=['13.4,573,390,61','390,573,774,61'],columns=['47.5,67.8,136.1,168.9,196.6,214.7,231.2,249.2,265,288.7,317.5,353.2','443.4,464.2,531.4,565,594.9,613.1,629.1,644.5,663.2,686.2,713.4,749.1'],strip_text='--\\n',split_text=True)\n",
    "        break\n",
    "    except:\n",
    "        startpage=startpage+1\n",
    "        pgrange=str(startpage)+'-'+str(lastpage)\n",
    "    \n",
    "print(\"  Done reading pdf\")"
   ]
  },
  {
   "cell_type": "code",
   "execution_count": 6,
   "metadata": {},
   "outputs": [
    {
     "name": "stdout",
     "output_type": "stream",
     "text": [
      "  Parsing Trips\n",
      "  Finished Parsing trips\n"
     ]
    }
   ],
   "source": [
    "print(\"  Parsing Trips\")\n",
    "    \n",
    "for n in range(0,len(tables)):\n",
    "# initialize variables to keep track of the current and previous trip ids\n",
    "    tripid_index=0\n",
    "    prev_trip_id = None\n",
    "    curr_trip_id = None\n",
    "    # loop through each row of the dataframe\n",
    "    for index, row in tables[n].df.iterrows():\n",
    "        # check if the current row contains a trip id\n",
    "    \n",
    "        if 'Trip Id:' in row[0]:\n",
    "            # if it does, split the dataframe into two parts\n",
    "            if prev_trip_id is not None:\n",
    "                dflist.append((tables[n].df.loc[tripid_index:index-1]).reset_index(drop=True))\n",
    "                tables[n].df = tables[n].df.loc[index:]\n",
    "            \n",
    "            tripid_index=index\n",
    "            curr_trip_id = row[0]\n",
    "            prev_trip_id = curr_trip_id\n",
    "if tripid_index==0:\n",
    "    del tables[n].df\n",
    "else:\n",
    "    # append the last part of the dataframe to the result list    \n",
    "    dflist.append(tables[n].df.reset_index(drop=True))\n",
    "    \n",
    "print(\"  Finished Parsing trips\")"
   ]
  },
  {
   "attachments": {},
   "cell_type": "markdown",
   "metadata": {},
   "source": [
    "Creating the trips list"
   ]
  },
  {
   "cell_type": "code",
   "execution_count": 7,
   "metadata": {},
   "outputs": [],
   "source": [
    "trips_list=[]"
   ]
  },
  {
   "cell_type": "code",
   "execution_count": 8,
   "metadata": {},
   "outputs": [],
   "source": [
    "df=pd.DataFrame(columns=[\"Trip Id\", \"DH\", \"Start time\", \"End time\",\"Layovers\",\"TAFB\",\"Dest\"])"
   ]
  },
  {
   "cell_type": "code",
   "execution_count": 9,
   "metadata": {},
   "outputs": [],
   "source": [
    "trips_list.append(df)"
   ]
  },
  {
   "cell_type": "code",
   "execution_count": 15,
   "metadata": {},
   "outputs": [
    {
     "data": {
      "text/html": [
       "<div>\n",
       "<style scoped>\n",
       "    .dataframe tbody tr th:only-of-type {\n",
       "        vertical-align: middle;\n",
       "    }\n",
       "\n",
       "    .dataframe tbody tr th {\n",
       "        vertical-align: top;\n",
       "    }\n",
       "\n",
       "    .dataframe thead th {\n",
       "        text-align: right;\n",
       "    }\n",
       "</style>\n",
       "<table border=\"1\" class=\"dataframe\">\n",
       "  <thead>\n",
       "    <tr style=\"text-align: right;\">\n",
       "      <th></th>\n",
       "      <th>Trip Id</th>\n",
       "      <th>DH</th>\n",
       "      <th>Start time</th>\n",
       "      <th>End time</th>\n",
       "      <th>Layovers</th>\n",
       "      <th>TAFB</th>\n",
       "      <th>Dest</th>\n",
       "    </tr>\n",
       "  </thead>\n",
       "  <tbody>\n",
       "    <tr>\n",
       "      <th>0</th>\n",
       "      <td>1</td>\n",
       "      <td>NaN</td>\n",
       "      <td>NaN</td>\n",
       "      <td>NaN</td>\n",
       "      <td>NaN</td>\n",
       "      <td>7.95</td>\n",
       "      <td>NaN</td>\n",
       "    </tr>\n",
       "  </tbody>\n",
       "</table>\n",
       "</div>"
      ],
      "text/plain": [
       "  Trip Id   DH Start time End time Layovers  TAFB Dest\n",
       "0       1  NaN        NaN      NaN      NaN  7.95  NaN"
      ]
     },
     "execution_count": 15,
     "metadata": {},
     "output_type": "execute_result"
    }
   ],
   "source": [
    "trips_list[0]"
   ]
  },
  {
   "attachments": {},
   "cell_type": "markdown",
   "metadata": {},
   "source": [
    "Adding the Trip ID"
   ]
  },
  {
   "cell_type": "code",
   "execution_count": 11,
   "metadata": {},
   "outputs": [],
   "source": [
    "trips_list[0].loc[0,\"Trip Id\"]=int(re.findall('\\d+',dflist[0].iloc[0,0])[0])"
   ]
  },
  {
   "attachments": {},
   "cell_type": "markdown",
   "metadata": {},
   "source": [
    "Adding TAFB"
   ]
  },
  {
   "cell_type": "code",
   "execution_count": 14,
   "metadata": {},
   "outputs": [],
   "source": [
    "hours, minutes=dflist[0].iloc[9,12].split(\"h\")\n",
    "trips_list[0].loc[0,\"TAFB\"]=int(hours)+(int(minutes)/60)"
   ]
  },
  {
   "attachments": {},
   "cell_type": "markdown",
   "metadata": {},
   "source": [
    "Adding number of DH or CM"
   ]
  },
  {
   "cell_type": "code",
   "execution_count": 20,
   "metadata": {},
   "outputs": [
    {
     "name": "stdout",
     "output_type": "stream",
     "text": [
      "0\n"
     ]
    }
   ],
   "source": [
    "DH=0\n",
    "if re.findall( r'\\bDH\\b',dflist[0].iloc[5,1]) or re.findall( r'\\bCM\\b',dflist[0].iloc[5,1]):\n",
    "    DH=DH+1\n",
    "\n",
    "for i in range(len(dflist[0])-1,-1,-1):\n",
    "    string=dflist[0].iloc[i,1]\n",
    "    if string!='':\n",
    "        if re.findall( r'\\bDH\\b',string) or re.findall( r'\\bCM\\b',string):\n",
    "            DH=DH+1\n",
    "            break\n",
    "trips_list[0].loc[0,\"DH\"]=DH"
   ]
  }
 ],
 "metadata": {
  "kernelspec": {
   "display_name": "env",
   "language": "python",
   "name": "python3"
  },
  "language_info": {
   "codemirror_mode": {
    "name": "ipython",
    "version": 3
   },
   "file_extension": ".py",
   "mimetype": "text/x-python",
   "name": "python",
   "nbconvert_exporter": "python",
   "pygments_lexer": "ipython3",
   "version": "3.10.11"
  },
  "orig_nbformat": 4
 },
 "nbformat": 4,
 "nbformat_minor": 2
}
