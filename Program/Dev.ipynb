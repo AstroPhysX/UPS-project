{
 "cells": [
  {
   "cell_type": "code",
   "execution_count": null,
   "metadata": {},
   "outputs": [],
   "source": [
    "import camelot\n",
    "import matplotlib.pyplot as plt\n",
    "import pandas as pd\n",
    "import re\n",
    "import PyPDF2"
   ]
  },
  {
   "cell_type": "code",
   "execution_count": null,
   "metadata": {},
   "outputs": [],
   "source": [
    "pd.set_option('display.max_rows', 500)\n",
    "pd.set_option('display.max_columns', 500)\n",
    "pd.set_option('display.width', 1000)"
   ]
  },
  {
   "cell_type": "code",
   "execution_count": null,
   "metadata": {},
   "outputs": [],
   "source": [
    "filename=\"A:/Github Repos/UPS-project/SamplePDFs/2304 Trips.pdf\""
   ]
  },
  {
   "cell_type": "code",
   "execution_count": null,
   "metadata": {},
   "outputs": [],
   "source": [
    "dflist=[]\n",
    "tripsdf=[]"
   ]
  },
  {
   "cell_type": "code",
   "execution_count": null,
   "metadata": {},
   "outputs": [],
   "source": [
    "def search_text_in_pdf(file_path, search_string, start_page=0, backward_search=False):\n",
    "    with open(file_path, 'rb') as file:\n",
    "        pdf = PyPDF2.PdfFileReader(file)\n",
    "        num_pages = pdf.numPages\n",
    "\n",
    "        if backward_search:\n",
    "            page_range = range(num_pages - 1, start_page - 1, -1)\n",
    "        else:\n",
    "            page_range = range(start_page, num_pages)\n",
    "\n",
    "        for page_number in page_range:\n",
    "            page = pdf.getPage(page_number)\n",
    "            text = page.extractText()\n",
    "\n",
    "            if search_string in text:\n",
    "                if backward_search:\n",
    "                    return page_number\n",
    "                else:\n",
    "                    return page_number\n",
    "\n",
    "        return None  # Return None if the search string is not found in the specified range"
   ]
  },
  {
   "attachments": {},
   "cell_type": "markdown",
   "metadata": {},
   "source": [
    "Extracting trips"
   ]
  },
  {
   "cell_type": "code",
   "execution_count": null,
   "metadata": {},
   "outputs": [],
   "source": [
    "print(\"Extracting Trips\")\n",
    "pdf=open(filename,'rb')\n",
    "startpage=2\n",
    "lastpage=search_text_in_pdf(filename,\"Open Trips Report\",backward_search=True)\n",
    "beforelast=lastpage-1\n",
    "pgrange=str(startpage)+'-'+str(beforelast)\n",
    "pdf.close()   \n",
    "print(\"  Obtained the page range: \",pgrange)\n",
    "print(\"  Reading pdf. Getting line Trips this may take a few minutes...\")\n",
    "tables=[]   \n",
    "while True:\n",
    "    try:\n",
    "        extract=camelot.read_pdf(filename,pages=pgrange,flavor='stream',table_areas=['13.4,573,390,61','390,573,774,61'],columns=['47.5,67.8,136.1,168.9,196.6,214.7,231.2,249.2,265,288.7,317.5,353.2','443.4,464.2,531.4,565,594.9,613.1,629.1,644.5,663.2,686.2,713.4,749.1'],strip_text='--\\n',split_text=True)\n",
    "        for i in range(0,len(extract)):\n",
    "            tables.append(extract[i].df)\n",
    "        \n",
    "        break\n",
    "    except:\n",
    "        startpage=startpage+1\n",
    "        pgrange=str(startpage)+'-'+str(lastpage)\n",
    "        print(\"  Updated page range:\",pgrange)\n",
    "try:\n",
    "    pgrange=str(lastpage)\n",
    "    extractlast=camelot.read_pdf(filename,pages=pgrange,flavor='stream',table_areas=['13.4,573,390,61','390,573,774,61'],columns=['47.5,67.8,136.1,168.9,196.6,214.7,231.2,249.2,265,288.7,317.5,353.2','443.4,464.2,531.4,565,594.9,613.1,629.1,644.5,663.2,686.2,713.4,749.1'],strip_text='--\\n',split_text=True)\n",
    "    for i in range(0,len(extractlast)):\n",
    "        tables.append(extractlast[i].df)\n",
    "except:\n",
    "    extractlast=camelot.read_pdf(filename,pages=pgrange,flavor='stream',table_areas=['13.4,573,390,61'],columns=['47.5,67.8,136.1,168.9,196.6,214.7,231.2,249.2,265,288.7,317.5,353.2'],strip_text='--\\n',split_text=True)\n",
    "    for i in range(0,len(extractlast)):\n",
    "        tables.append(extractlast[i].df)\n",
    "    \n",
    "    \n",
    "print(\"  Done reading line trips\")"
   ]
  },
  {
   "attachments": {},
   "cell_type": "markdown",
   "metadata": {},
   "source": [
    "Extracting Open trips"
   ]
  },
  {
   "cell_type": "code",
   "execution_count": null,
   "metadata": {},
   "outputs": [],
   "source": [
    "\n",
    "print(\"Extracting Open Trips\")\n",
    "pdf=open(filename,'rb')\n",
    "startpage=lastpage+1\n",
    "lastpage=search_text_in_pdf(filename,\"Trips to Flight Report\",start_page=startpage)\n",
    "beforelast=lastpage-1\n",
    "pgrange=str(startpage)+'-'+str(beforelast)\n",
    "pdf.close()\n",
    "open_tables=[]\n",
    "while True:\n",
    "    try:\n",
    "        extract=camelot.read_pdf(filename,pages=pgrange,flavor='stream',table_areas=['13.4,573,390,61','390,573,774,61'],columns=['47.5,67.8,136.1,168.9,196.6,214.7,231.2,249.2,265,288.7,317.5,353.2','443.4,464.2,531.4,565,594.9,613.1,629.1,644.5,663.2,686.2,713.4,750'],strip_text='--\\n',split_text=True)\n",
    "        for i in range(0,len(extract)):\n",
    "            open_tables.append(extract[i].df)\n",
    "        break\n",
    "    except:\n",
    "        startpage=startpage+1\n",
    "        pgrange=str(startpage)+'-'+str(lastpage)\n",
    "        print(\"  Updated page range:\",pgrange)\n",
    "try:\n",
    "    pgrange=str(lastpage)\n",
    "    extractlast=camelot.read_pdf(filename,pages=pgrange,flavor='stream',table_areas=['13.4,573,390,61','390,573,774,61'],columns=['47.5,67.8,136.1,168.9,196.6,214.7,231.2,249.2,265,288.7,317.5,353.2','443.4,464.2,531.4,565,594.9,613.1,629.1,644.5,663.2,686.2,713.4,750'],strip_text='--\\n',split_text=True)\n",
    "    for i in range(0,len(extractlast)):\n",
    "        open_tables.append(extractlast[i].df)\n",
    "except:\n",
    "    extractlast=camelot.read_pdf(filename,pages=pgrange,flavor='stream',table_areas=['13.4,573,390,61'],columns=['47.5,67.8,136.1,168.9,196.6,214.7,231.2,249.2,265,288.7,317.5,353.2'],strip_text='--\\n',split_text=True)\n",
    "    for i in range(0,len(extractlast)):\n",
    "        open_tables.append(extractlast[i].df)\n",
    "    \n",
    "    \n",
    "print(\"  Done readng open lines\")\n",
    "print(\"  Done reading pdf\")"
   ]
  },
  {
   "attachments": {},
   "cell_type": "markdown",
   "metadata": {},
   "source": [
    "Seperating trips function"
   ]
  },
  {
   "cell_type": "code",
   "execution_count": null,
   "metadata": {},
   "outputs": [],
   "source": [
    "def separate_trips(tables):\n",
    "    trips = []  # initialize the list to store the separated trips\n",
    "    \n",
    "    for df in tables:\n",
    "        # initialize variables to keep track of the current and previous trip ids\n",
    "        tripid_index = 0\n",
    "        prev_trip_id = None\n",
    "        curr_trip_id = None\n",
    "        tripid_count=0\n",
    "        # loop through each row of the dataframe\n",
    "        for index, row in df.iterrows():\n",
    "            # check if the current row contains a trip id\n",
    "            if 'Trip Id:' in row[0]:\n",
    "                # if it does, split the dataframe into two parts\n",
    "                if prev_trip_id is not None:\n",
    "                    trips.append(df.loc[tripid_index:index-1].reset_index(drop=True))\n",
    "                    df = df.loc[index:]  \n",
    "\n",
    "                if tripid_count==0 and index!= 0:\n",
    "                    tripid_index=index\n",
    "                    \n",
    "                tripid_index = index\n",
    "                curr_trip_id = row[0]\n",
    "                prev_trip_id = curr_trip_id\n",
    "                tripid_count+=1\n",
    "        \n",
    "        if tripid_count == 0:\n",
    "            del df\n",
    "        else:\n",
    "            # append the last part of the dataframe to the result list    \n",
    "            trips.append(df.loc[tripid_index:].reset_index(drop=True))\n",
    "    \n",
    "    return trips"
   ]
  },
  {
   "cell_type": "code",
   "execution_count": null,
   "metadata": {},
   "outputs": [],
   "source": [
    "tripsdf=separate_trips(tables)"
   ]
  },
  {
   "cell_type": "code",
   "execution_count": null,
   "metadata": {},
   "outputs": [],
   "source": [
    "opentripsdf=separate_trips(open_tables)"
   ]
  },
  {
   "attachments": {},
   "cell_type": "markdown",
   "metadata": {},
   "source": [
    "Processing trips"
   ]
  },
  {
   "cell_type": "code",
   "execution_count": null,
   "metadata": {},
   "outputs": [],
   "source": [
    "def process_trips(tripsdf, dflist,open=False):\n",
    "    for n in range(len(tripsdf)):\n",
    "        emptydf = pd.DataFrame(columns=[\"Trip Id\", \"DH\", \"Start time\", \"End time\", \"Layovers\", \"TAFB\", \"Dest\"])\n",
    "        dflist.append(emptydf)\n",
    "        o=0\n",
    "        if open:\n",
    "          o=1\n",
    "          print(tripsdf[n].iloc[9-o, 12])\n",
    "        # Adding the Trip Id\n",
    "        dflist[n].loc[0, \"Trip Id\"] = int(re.findall('\\d+', tripsdf[n].iloc[0, 0])[0])\n",
    "\n",
    "        # Adding TAFB\n",
    "        hours, minutes = tripsdf[n].iloc[9-o, 12].split(\"h\")\n",
    "        dflist[n].loc[0, \"TAFB\"] = int(hours) + (int(minutes) / 60)\n",
    "\n",
    "        # Adding number of DH/CM at end and beginning\n",
    "        DH = 0\n",
    "        \n",
    "        if re.findall(r'\\bDH\\b', tripsdf[n].iloc[5-o, 1]) or re.findall(r'\\bCM\\b', tripsdf[n].iloc[5-o, 1]):\n",
    "            DH+= 1\n",
    "        for i in range(len(tripsdf[n]) - 1, -1, -1):\n",
    "            string = tripsdf[n].iloc[i, 1]\n",
    "            notemptyline=re.search(r'[1-9A-Z]', string)\n",
    "            if notemptyline:\n",
    "                if re.findall(r'\\bDH\\b', string) or re.findall(r'\\bCM\\b', string):\n",
    "                    DH += 1\n",
    "                    break\n",
    "                else:\n",
    "                    break\n",
    "            \n",
    "        dflist[n].loc[0, \"DH\"] = DH\n",
    "\n",
    "        # Adding Layovers and destinations\n",
    "        k = 0\n",
    "        df = tripsdf[n].loc[4-o:, 2].reset_index(drop=True)\n",
    "        for i in range(0, len(df) - 1):\n",
    "            emptyline=re.findall(r'[A-Z]{3}', df.loc[i])\n",
    "            branch1 = re.findall(r'[A-Z]{3}', df.loc[i+1])\n",
    "            if branch1 and not emptyline:\n",
    "                branch1 = re.findall(r'[A-Z]{3}', df.loc[i + 1])\n",
    "                branch2 = re.findall(r'[A-Z]{3}', df.loc[i + 2])\n",
    "                branch3 = re.findall(r'[A-Z]{3}', df.loc[i + 3])\n",
    "                if branch1 and branch2 and branch3:\n",
    "                    dflist[n].loc[k, \"Dest\"] = branch1[0] + '-' + branch1[1] + '-' + branch2[1] + '-' + branch3[1]\n",
    "                    dflist[n].loc[k, \"Layovers\"] = branch3[1]\n",
    "                    k += 1\n",
    "                elif branch1 and branch2:\n",
    "                    dflist[n].loc[k, \"Dest\"] = branch1[0] + '-' + branch1[1] + '-' + branch2[1]\n",
    "                    dflist[n].loc[k, \"Layovers\"] = branch2[1]\n",
    "                    k += 1\n",
    "                else:\n",
    "                    dflist[n].loc[k, \"Dest\"] = branch1[0] + \"-\" + branch1[1]\n",
    "                    dflist[n].loc[k, \"Layovers\"] = branch1[1]\n",
    "                    k += 1\n",
    "\n",
    "        # Adding the start and end times of trip\n",
    "        df = tripsdf[n].loc[4-o:, 3:4].reset_index(drop=True)\n",
    "        \n",
    "        # Finding start time\n",
    "        for i in range(len(df)):\n",
    "            start = re.findall(r'\\d{2}:\\d{2}', df.loc[i, 3])\n",
    "            if start:\n",
    "                dflist[n].loc[0, \"Start time\"] = start[0]\n",
    "                break\n",
    "\n",
    "        # Finding end time\n",
    "        for i in range(len(df) - 1, 0, -1):\n",
    "            end = re.findall(r'\\d{2}:\\d{2}', df.loc[i, 4])\n",
    "            if end:\n",
    "                dflist[n].loc[0, \"End time\"] = end[0]\n",
    "                break"
   ]
  },
  {
   "cell_type": "code",
   "execution_count": null,
   "metadata": {},
   "outputs": [],
   "source": [
    "dflist=[]\n",
    "dflist2=[]\n",
    "process_trips(tripsdf,dflist)\n",
    "process_trips(opentripsdf,dflist2,open=True)"
   ]
  },
  {
   "attachments": {},
   "cell_type": "markdown",
   "metadata": {},
   "source": [
    "Old processing not working "
   ]
  },
  {
   "cell_type": "code",
   "execution_count": null,
   "metadata": {},
   "outputs": [],
   "source": [
    "def process_trips(tripsdf,dflist):\n",
    "    \n",
    "    for n in range(len(tripsdf)):\n",
    "        emptydf = pd.DataFrame(columns=[\"Trip Id\", \"DH\", \"Start time\", \"End time\", \"Layovers\", \"TAFB\", \"Dest\"])\n",
    "        dflist.append(emptydf)\n",
    "        # Adding the Trip Id\n",
    "        dflist[n].loc[0, \"Trip Id\"] = int(re.findall('\\d+', tripsdf[n].iloc[0, 0])[0])\n",
    "\n",
    "        # Adding TAFB\n",
    "        hours, minutes = tripsdf[n].iloc[9, 12].split(\"h\")\n",
    "        dflist[n].loc[0, \"TAFB\"] = int(hours) + (int(minutes) / 60)\n",
    "\n",
    "        # Adding number of DH/CM at end and beginning\n",
    "        DH = 0\n",
    "        if re.findall(r'\\bDH\\b', tripsdf[n].iloc[5, 1]) or re.findall(r'\\bCM\\b', tripsdf[n].iloc[5, 1]):\n",
    "            DH = DH + 1\n",
    "        for i in range(len(tripsdf[n]) - 1, -1, -1):\n",
    "            string = tripsdf[n].iloc[i, 1]\n",
    "            if string != '':\n",
    "                if re.findall(r'\\bDH\\b', string) or re.findall(r'\\bCM\\b', string):\n",
    "                    DH = DH + 1\n",
    "                    break\n",
    "        dflist[n].loc[0, \"DH\"] = DH\n",
    "\n",
    "        # Adding Layovers and destinations\n",
    "        k = 0\n",
    "        df = tripsdf[160].loc[4:, 2].reset_index(drop=True)\n",
    "        for i in range(0, len(df) - 1):\n",
    "            if df.loc[i] == '' and not df.loc[i + 1] == '':\n",
    "                branch1 = re.findall(r'[A-Z]{3}', df.loc[i + 1])\n",
    "                branch2 = re.findall(r'[A-Z]{3}', df.loc[i + 2])\n",
    "                branch3 = re.findall(r'[A-Z]{3}', df.loc[i + 3])\n",
    "\n",
    "                if branch1 and branch2 and branch3:\n",
    "                    dflist[n].loc[k, \"Dest\"] = branch1[0] + '-' + branch1[1] + '-' + branch2[1] + '-' + branch3[1]\n",
    "                    dflist[n].loc[k, \"Layovers\"] = branch3[1]\n",
    "                    k += 1\n",
    "                elif branch1 and branch2:\n",
    "                    dflist[n].loc[k, \"Dest\"] = branch1[0] + '-' + branch1[1] + '-' + branch2[1]\n",
    "                    dflist[n].loc[k, \"Layovers\"] = branch2[1]\n",
    "                    k += 1\n",
    "                else:\n",
    "                    dflist[n].loc[k, \"Dest\"] = branch1[0] + \"-\" + branch1[1]\n",
    "                    dflist[n].loc[k, \"Layovers\"] = branch1[1]\n",
    "                    k += 1\n",
    "\n",
    "        # Adding the start and end times of trip\n",
    "        df = tripsdf[160].loc[4:, 3:4].reset_index(drop=True)\n",
    "        \n",
    "        # Finding start time\n",
    "        for i in range(len(df)):\n",
    "            start = re.findall(r'\\d{2}:\\d{2}', df.loc[i, 3])\n",
    "            if start:\n",
    "                dflist[n].loc[0, \"Start time\"] = start[0]\n",
    "                break\n",
    "\n",
    "        # Finding end time\n",
    "        for i in range(len(df) - 1, 0, -1):\n",
    "            end = re.findall(r'\\d{2}:\\d{2}', df.loc[i, 4])\n",
    "            if end:\n",
    "                dflist[n].loc[0, \"End time\"] = end[0]\n",
    "                break"
   ]
  },
  {
   "cell_type": "code",
   "execution_count": null,
   "metadata": {},
   "outputs": [],
   "source": [
    "for n in range(0,len(tripsdf)):\n",
    "        emptydf=pd.DataFrame(columns=[\"Trip Id\", \"DH\", \"Start time\", \"End time\",\"Layovers\",\"TAFB\",\"Dest\"])\n",
    "        dflist.append(emptydf)\n",
    "       \n",
    "        #Adding the Trip Id\n",
    "        dflist[n].loc[0,\"Trip Id\"]=int(re.findall('\\d+',tripsdf[n].iloc[0,0])[0])\n",
    "        #Adding TAFB\n",
    "        print(dflist[n].loc[0,\"Trip Id\"], tripsdf[n].iloc[9,12])\n",
    "        hours, minutes=tripsdf[n].iloc[9,12].split(\"h\")\n",
    "        dflist[n].loc[0,\"TAFB\"]=int(hours)+(int(minutes)/60)\n",
    "        #Adding number of DH/CM at end and begining\n",
    "        DH=0\n",
    "        if re.findall( r'\\bDH\\b',tripsdf[n].iloc[5,1]) or re.findall( r'\\bCM\\b',tripsdf[n].iloc[5,1]):\n",
    "            DH=DH+1\n",
    "        for i in range(len(tripsdf[n])-1,-1,-1):\n",
    "            string=tripsdf[n].iloc[i,1]\n",
    "            if string!='':\n",
    "                if re.findall( r'\\bDH\\b',string) or re.findall( r'\\bCM\\b',string):\n",
    "                    DH=DH+1\n",
    "                    break\n",
    "        dflist[n].loc[0,\"DH\"]=DH\n",
    "        #Adding Layovers and destinations\n",
    "        k=0\n",
    "        df=tripsdf[160].loc[4:,2].reset_index(drop=True)\n",
    "        for i in range(0,len(df)-1):\n",
    "            if df.loc[i]=='' and not df.loc[i+1]=='':\n",
    "                branch1=re.findall(r'[A-Z]{3}',df.loc[i+1])\n",
    "                branch2=re.findall(r'[A-Z]{3}',df.loc[i+2])\n",
    "                branch3=re.findall(r'[A-Z]{3}',df.loc[i+3])\n",
    "        \n",
    "                if branch1 and branch2 and branch3:\n",
    "                    dflist[0].loc[k,\"Dest\"]=branch1[0]+'-'+branch1[1]+'-'+branch2[1]+'-'+branch3[1]\n",
    "                    dflist[0].loc[k,\"Layovers\"]=branch3[1]\n",
    "                    k+=1    \n",
    "                elif branch1 and branch2:\n",
    "                    dflist[0].loc[k,\"Dest\"]=branch1[0]+'-'+branch1[1]+'-'+branch2[1]\n",
    "                    dflist[0].loc[k,\"Layovers\"]=branch2[1]\n",
    "                    k+=1   \n",
    "                else:\n",
    "                    dflist[0].loc[k,\"Dest\"]=branch1[0]+\"-\"+branch1[1]\n",
    "                    dflist[0].loc[k,\"Layovers\"]=branch1[1]\n",
    "                    k+=1\n",
    "        #Adding the start and end times of trip\n",
    "        df=tripsdf[160].loc[4:,3:4].reset_index(drop=True)\n",
    "        #Finding start time\n",
    "        for i in range(0,len(df)):\n",
    "            start=re.findall(r'\\d{2}:\\d{2}',df.loc[i,3])\n",
    "            if start:\n",
    "                dflist[0].loc[0, \"Start time\"]=start[0]\n",
    "                break\n",
    "        #Finding end time\n",
    "        for i in range(len(df)-1,0,-1):\n",
    "            end=re.findall(r'\\d{2}:\\d{2}',df.loc[i,4])\n",
    "            if end:\n",
    "                dflist[0].loc[0,\"End time\"]=end[0]\n",
    "                break"
   ]
  },
  {
   "attachments": {},
   "cell_type": "markdown",
   "metadata": {},
   "source": [
    "        Creating the trips list"
   ]
  },
  {
   "cell_type": "code",
   "execution_count": null,
   "metadata": {},
   "outputs": [],
   "source": [
    "df=pd.DataFrame(columns=[\"Trip Id\", \"DH\", \"Start time\", \"End time\",\"Layovers\",\"TAFB\",\"Dest\"])"
   ]
  },
  {
   "cell_type": "code",
   "execution_count": null,
   "metadata": {},
   "outputs": [],
   "source": [
    "dflist.append(df)"
   ]
  },
  {
   "cell_type": "code",
   "execution_count": null,
   "metadata": {},
   "outputs": [],
   "source": [
    "dflist[0]"
   ]
  },
  {
   "attachments": {},
   "cell_type": "markdown",
   "metadata": {},
   "source": [
    "        Adding the Trip ID"
   ]
  },
  {
   "cell_type": "code",
   "execution_count": null,
   "metadata": {},
   "outputs": [],
   "source": [
    "dflist[0].loc[0,\"Trip Id\"]=int(re.findall('\\d+',tripsdf[0].iloc[0,0])[0])"
   ]
  },
  {
   "attachments": {},
   "cell_type": "markdown",
   "metadata": {},
   "source": [
    "        Adding TAFB"
   ]
  },
  {
   "cell_type": "code",
   "execution_count": null,
   "metadata": {},
   "outputs": [],
   "source": [
    "hours, minutes=tripsdf[0].iloc[9,12].split(\"h\")\n",
    "dflist[0].loc[0,\"TAFB\"]=int(hours)+(int(minutes)/60)"
   ]
  },
  {
   "attachments": {},
   "cell_type": "markdown",
   "metadata": {},
   "source": [
    "        Adding number of DH or CM"
   ]
  },
  {
   "cell_type": "code",
   "execution_count": null,
   "metadata": {},
   "outputs": [],
   "source": [
    "DH=0\n",
    "if re.findall( r'\\bDH\\b',tripsdf[0].iloc[5,1]) or re.findall( r'\\bCM\\b',tripsdf[0].iloc[5,1]):\n",
    "    DH=DH+1\n",
    "\n",
    "for i in range(len(tripsdf[0])-1,-1,-1):\n",
    "    string=tripsdf[0].iloc[i,1]\n",
    "    if string!='':\n",
    "        if re.findall( r'\\bDH\\b',string) or re.findall( r'\\bCM\\b',string):\n",
    "            DH=DH+1\n",
    "            break\n",
    "dflist[0].loc[0,\"DH\"]=DH"
   ]
  },
  {
   "attachments": {},
   "cell_type": "markdown",
   "metadata": {},
   "source": [
    "        Layovers and Dest\n"
   ]
  },
  {
   "cell_type": "code",
   "execution_count": null,
   "metadata": {},
   "outputs": [],
   "source": [
    "k=0\n",
    "df=tripsdf[160].loc[4:,2].reset_index(drop=True)\n",
    "for i in range(0,len(df)-1):\n",
    "    if df.loc[i]=='' and not df.loc[i+1]=='':\n",
    "        branch1=re.findall(r'[A-Z]{3}',df.loc[i+1])\n",
    "        branch2=re.findall(r'[A-Z]{3}',df.loc[i+2])\n",
    "        branch3=re.findall(r'[A-Z]{3}',df.loc[i+3])\n",
    "        \n",
    "        if branch1 and branch2 and branch3:\n",
    "            dflist[0].loc[k,\"Dest\"]=branch1[0]+'-'+branch1[1]+'-'+branch2[1]+'-'+branch3[1]\n",
    "            dflist[0].loc[k,\"Layovers\"]=branch3[1]\n",
    "            print(dflist[0].loc[k,\"Dest\"])\n",
    "            k+=1    \n",
    "        elif branch1 and branch2:\n",
    "            dflist[0].loc[k,\"Dest\"]=branch1[0]+'-'+branch1[1]+'-'+branch2[1]\n",
    "            dflist[0].loc[k,\"Layovers\"]=branch2[1]\n",
    "            print(dflist[0].loc[k,\"Dest\"])\n",
    "            k+=1   \n",
    "        else:\n",
    "            dflist[0].loc[k,\"Dest\"]=branch1[0]+\"-\"+branch1[1]\n",
    "            dflist[0].loc[k,\"Layovers\"]=branch1[1]\n",
    "            print(dflist[0].loc[k,\"Dest\"])\n",
    "            k+=1\n",
    "            "
   ]
  },
  {
   "attachments": {},
   "cell_type": "markdown",
   "metadata": {},
   "source": [
    "        Start time and end time"
   ]
  },
  {
   "cell_type": "code",
   "execution_count": null,
   "metadata": {},
   "outputs": [],
   "source": [
    "df=tripsdf[160].loc[4:,3:4].reset_index(drop=True)\n",
    "#Finding start time\n",
    "for i in range(0,len(df)):\n",
    "    start=re.findall(r'\\d{2}:\\d{2}',df.loc[i,3])\n",
    "    if start:\n",
    "        dflist[0].loc[0, \"Start time\"]=start[0]\n",
    "        print(dflist[0].loc[0, \"Start time\"])\n",
    "        break\n",
    "#Finding end time\n",
    "for i in range(len(df)-1,0,-1):\n",
    "    end=re.findall(r'\\d{2}:\\d{2}',df.loc[i,4])\n",
    "    if end:\n",
    "        dflist[0].loc[0,\"End time\"]=end[0]\n",
    "        print(dflist[0].loc[0,\"End time\"])\n",
    "        break\n",
    "\n"
   ]
  }
 ],
 "metadata": {
  "kernelspec": {
   "display_name": "env",
   "language": "python",
   "name": "python3"
  },
  "language_info": {
   "codemirror_mode": {
    "name": "ipython",
    "version": 3
   },
   "file_extension": ".py",
   "mimetype": "text/x-python",
   "name": "python",
   "nbconvert_exporter": "python",
   "pygments_lexer": "ipython3",
   "version": "3.10.11"
  },
  "orig_nbformat": 4
 },
 "nbformat": 4,
 "nbformat_minor": 2
}
